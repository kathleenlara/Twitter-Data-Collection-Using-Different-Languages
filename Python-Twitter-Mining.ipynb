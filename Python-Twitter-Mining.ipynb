{
 "cells": [
  {
   "cell_type": "code",
   "execution_count": 1,
   "id": "stone-truck",
   "metadata": {},
   "outputs": [],
   "source": [
    "# Importing Libraries - make sure the packages are installed\n",
    "import os\n",
    "import tweepy as tw\n",
    "import pandas as pd\n",
    "import numpy as np"
   ]
  },
  {
   "cell_type": "code",
   "execution_count": 2,
   "id": "alike-sound",
   "metadata": {},
   "outputs": [],
   "source": [
    "# Connecting to your Twitter Developer APIs\n",
    "api_key= 'PASTEAPIKEYHERE' \n",
    "api_secret= 'PASTEAPISECRETKEYHERE'\n",
    "access_token= 'ACCESSTOKENHERE'\n",
    "access_token_secret= 'ACCESSTOKENSECRETHERE'"
   ]
  },
  {
   "cell_type": "code",
   "execution_count": 3,
   "id": "expected-globe",
   "metadata": {},
   "outputs": [],
   "source": [
    "# Authenticating the APIs\n",
    "auth = tw.OAuthHandler(api_key, api_secret)\n",
    "auth.set_access_token(access_token, access_token_secret)\n",
    "api = tw.API(auth, wait_on_rate_limit=True)"
   ]
  },
  {
   "cell_type": "code",
   "execution_count": 4,
   "id": "valid-nomination",
   "metadata": {},
   "outputs": [],
   "source": [
    "# Define the search term and the date_since date as variables\n",
    "search_words = \"bruins\"\n",
    "date_since = \"2021-02-20\""
   ]
  },
  {
   "cell_type": "code",
   "execution_count": 5,
   "id": "mental-arlington",
   "metadata": {},
   "outputs": [],
   "source": [
    "# Collect tweets\n",
    "tweets = tw.Cursor(api.search,\n",
    "              q=search_words,\n",
    "              lang=\"en\",\n",
    "              since=date_since).items(5)"
   ]
  },
  {
   "cell_type": "code",
   "execution_count": 6,
   "id": "identified-empire",
   "metadata": {},
   "outputs": [],
   "source": [
    "# Function to get related tweets\n",
    "def get_related_tweets(key_word):\n",
    "    twitter_users = []\n",
    "    tweet_time = []\n",
    "    tweet_string = [] \n",
    "    for tweet in tw.Cursor(api.search,q=key_word, count=1000).items(1000):\n",
    "            if (not tweet.retweeted) and ('RT @' not in tweet.text):\n",
    "                if tweet.lang == \"en\":\n",
    "                    twitter_users.append(tweet.user.name)\n",
    "                    tweet_time.append(tweet.created_at)\n",
    "                    tweet_string.append(tweet.text)\n",
    "                    #print([tweet.user.name,tweet.created_at,tweet.text])\n",
    "    df = pd.DataFrame({'name':twitter_users, 'time': tweet_time, 'tweet': tweet_string})\n",
    "    df.to_csv(f\"{key_word}.csv\")\n",
    "    return df"
   ]
  },
  {
   "cell_type": "code",
   "execution_count": 7,
   "id": "ethical-disclosure",
   "metadata": {},
   "outputs": [
    {
     "data": {
      "text/html": [
       "<div>\n",
       "<style scoped>\n",
       "    .dataframe tbody tr th:only-of-type {\n",
       "        vertical-align: middle;\n",
       "    }\n",
       "\n",
       "    .dataframe tbody tr th {\n",
       "        vertical-align: top;\n",
       "    }\n",
       "\n",
       "    .dataframe thead th {\n",
       "        text-align: right;\n",
       "    }\n",
       "</style>\n",
       "<table border=\"1\" class=\"dataframe\">\n",
       "  <thead>\n",
       "    <tr style=\"text-align: right;\">\n",
       "      <th></th>\n",
       "      <th>name</th>\n",
       "      <th>time</th>\n",
       "      <th>tweet</th>\n",
       "    </tr>\n",
       "  </thead>\n",
       "  <tbody>\n",
       "    <tr>\n",
       "      <th>0</th>\n",
       "      <td>FPHS_A_Street_Bruins</td>\n",
       "      <td>2021-02-26 18:05:50</td>\n",
       "      <td>Great first week back for “A” Street!   Smilin...</td>\n",
       "    </tr>\n",
       "    <tr>\n",
       "      <th>1</th>\n",
       "      <td>Lou Rondo</td>\n",
       "      <td>2021-02-26 18:05:15</td>\n",
       "      <td>@The_Real_LM32 @Marty_gras17 Rangers Bruins tn...</td>\n",
       "    </tr>\n",
       "    <tr>\n",
       "      <th>2</th>\n",
       "      <td>Brent'$ Bet$</td>\n",
       "      <td>2021-02-26 18:03:50</td>\n",
       "      <td>🏒Grand Salami Away gls (-140) .5u\\n\\nLike the ...</td>\n",
       "    </tr>\n",
       "    <tr>\n",
       "      <th>3</th>\n",
       "      <td>Boston Globe Sports</td>\n",
       "      <td>2021-02-26 18:03:50</td>\n",
       "      <td>No major changes planned as Bruins look to mov...</td>\n",
       "    </tr>\n",
       "    <tr>\n",
       "      <th>4</th>\n",
       "      <td>Chris, Cam, and Claire</td>\n",
       "      <td>2021-02-26 18:03:21</td>\n",
       "      <td>@HitsNiks Red Sox Bruins Celtics Patriots</td>\n",
       "    </tr>\n",
       "  </tbody>\n",
       "</table>\n",
       "</div>"
      ],
      "text/plain": [
       "                     name                time  \\\n",
       "0    FPHS_A_Street_Bruins 2021-02-26 18:05:50   \n",
       "1               Lou Rondo 2021-02-26 18:05:15   \n",
       "2            Brent'$ Bet$ 2021-02-26 18:03:50   \n",
       "3     Boston Globe Sports 2021-02-26 18:03:50   \n",
       "4  Chris, Cam, and Claire 2021-02-26 18:03:21   \n",
       "\n",
       "                                               tweet  \n",
       "0  Great first week back for “A” Street!   Smilin...  \n",
       "1  @The_Real_LM32 @Marty_gras17 Rangers Bruins tn...  \n",
       "2  🏒Grand Salami Away gls (-140) .5u\\n\\nLike the ...  \n",
       "3  No major changes planned as Bruins look to mov...  \n",
       "4          @HitsNiks Red Sox Bruins Celtics Patriots  "
      ]
     },
     "execution_count": 7,
     "metadata": {},
     "output_type": "execute_result"
    }
   ],
   "source": [
    "# Getting bruins related tweets and passing them to a dataframe\n",
    "tweets_df = get_related_tweets(\"bruins\")\n",
    "tweets_df.head(5)"
   ]
  }
 ],
 "metadata": {
  "kernelspec": {
   "display_name": "Python 3",
   "language": "python",
   "name": "python3"
  },
  "language_info": {
   "codemirror_mode": {
    "name": "ipython",
    "version": 3
   },
   "file_extension": ".py",
   "mimetype": "text/x-python",
   "name": "python",
   "nbconvert_exporter": "python",
   "pygments_lexer": "ipython3",
   "version": "3.8.0"
  },
  "toc": {
   "base_numbering": 1,
   "nav_menu": {},
   "number_sections": true,
   "sideBar": true,
   "skip_h1_title": false,
   "title_cell": "Table of Contents",
   "title_sidebar": "Contents",
   "toc_cell": false,
   "toc_position": {},
   "toc_section_display": true,
   "toc_window_display": false
  },
  "varInspector": {
   "cols": {
    "lenName": 16,
    "lenType": 16,
    "lenVar": 40
   },
   "kernels_config": {
    "python": {
     "delete_cmd_postfix": "",
     "delete_cmd_prefix": "del ",
     "library": "var_list.py",
     "varRefreshCmd": "print(var_dic_list())"
    },
    "r": {
     "delete_cmd_postfix": ") ",
     "delete_cmd_prefix": "rm(",
     "library": "var_list.r",
     "varRefreshCmd": "cat(var_dic_list()) "
    }
   },
   "types_to_exclude": [
    "module",
    "function",
    "builtin_function_or_method",
    "instance",
    "_Feature"
   ],
   "window_display": false
  }
 },
 "nbformat": 4,
 "nbformat_minor": 5
}
